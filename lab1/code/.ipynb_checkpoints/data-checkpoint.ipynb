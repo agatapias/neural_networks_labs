{
 "cells": [
  {
   "cell_type": "code",
   "execution_count": 3,
   "id": "cae948ac",
   "metadata": {},
   "outputs": [],
   "source": [
    "import numpy as np\n",
    "from ucimlrepo import fetch_ucirepo\n",
    "from PIL import Image\n",
    "import os\n",
    "import re\n",
    "import idx2numpy\n",
    "\n",
    "class Data():\n",
    "    \n",
    "    def __init__(self):\n",
    "        # Define the split proportions\n",
    "        self.train_ratio = 0.6  # 60% for training\n",
    "        self.val_ratio = 0.2    # 20% for validation\n",
    "        self.test_ratio = 0.2   # 20% for testing\n",
    "    \n",
    "    def min_max_normalisation(self, col):\n",
    "        minn = col.min()\n",
    "        maxx = col.max()\n",
    "        return (col - minn) / (maxx - minn)\n",
    "    \n",
    "    def get_data(self):\n",
    "        self.X_train = idx2numpy.convert_from_file('data/train-images-idx3-ubyte')\n",
    "        self.y_train = idx2numpy.convert_from_file('data/train-labels-idx1-ubyte')\n",
    "        self.X_val = np.array(self.X_train[40000:])\n",
    "        self.y_val = np.array(self.y_train[40000:])\n",
    "        self.X_test = idx2numpy.convert_from_file('data/t10k-images-idx3-ubyte')\n",
    "        self.y_test = idx2numpy.convert_from_file('data/t10k-labels-idx1-ubyte')\n",
    "        \n",
    "        print(\"data loading done\")"
   ]
  }
 ],
 "metadata": {
  "kernelspec": {
   "display_name": "Python 3 (ipykernel)",
   "language": "python",
   "name": "python3"
  },
  "language_info": {
   "codemirror_mode": {
    "name": "ipython",
    "version": 3
   },
   "file_extension": ".py",
   "mimetype": "text/x-python",
   "name": "python",
   "nbconvert_exporter": "python",
   "pygments_lexer": "ipython3",
   "version": "3.11.4"
  }
 },
 "nbformat": 4,
 "nbformat_minor": 5
}
