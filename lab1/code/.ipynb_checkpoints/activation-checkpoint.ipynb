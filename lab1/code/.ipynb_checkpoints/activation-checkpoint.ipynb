{
 "cells": [
  {
   "cell_type": "code",
   "execution_count": 1,
   "id": "c1eba621",
   "metadata": {},
   "outputs": [],
   "source": [
    "import numpy as np\n",
    "\n",
    "#Activation functions and their derivatives\n",
    "class Activation():\n",
    "    \n",
    "    def sigmoid(self, Z):\n",
    "        return 1/(1+np.exp(-Z))\n",
    "\n",
    "    def sigmoid_derivative(self, dA, Z):\n",
    "        sig = sigmoid(Z)\n",
    "        return dA * sig * (1 - sig)\n",
    "\n",
    "    def relu(self, Z):\n",
    "        return np.maximum(0,Z)\n",
    "\n",
    "    def relu_backward(self, dA, Z):\n",
    "        dZ = np.array(dA, copy = True)\n",
    "        dZ[Z <= 0] = 0;\n",
    "        return dZ\n",
    "\n",
    "    def tanh(self, x):\n",
    "        return (np.e**(x) - np.e**(-x))/(np.e**(x) + np.e**(-x))\n",
    "\n",
    "    def tanh_derivative(self, dA, Z):\n",
    "        return 1 - tanh(Z)\n",
    "\n",
    "    def linear(self, x):\n",
    "        return x\n",
    "\n",
    "    def linear_derivative(self, dA, Z):\n",
    "        return dA"
   ]
  }
 ],
 "metadata": {
  "kernelspec": {
   "display_name": "Python 3 (ipykernel)",
   "language": "python",
   "name": "python3"
  },
  "language_info": {
   "codemirror_mode": {
    "name": "ipython",
    "version": 3
   },
   "file_extension": ".py",
   "mimetype": "text/x-python",
   "name": "python",
   "nbconvert_exporter": "python",
   "pygments_lexer": "ipython3",
   "version": "3.11.4"
  }
 },
 "nbformat": 4,
 "nbformat_minor": 5
}
