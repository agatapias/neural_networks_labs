{
 "cells": [
  {
   "cell_type": "code",
   "execution_count": null,
   "id": "ba8650a4",
   "metadata": {},
   "outputs": [],
   "source": [
    "import numpy as np\n",
    "from numpy.lib.stride_tricks import sliding_window_view\n",
    "\n",
    "# A single layer of neurons\n",
    "class MaxPoolingLayer():\n",
    "    \n",
    "    def __init__(self, pooling_size):\n",
    "        self.pooling_size = pooling_size\n",
    "        self.input_data = []\n",
    "        self.output = []\n",
    "        self.output_indexes = []\n",
    "        self.window = []\n",
    "    \n",
    "    \n",
    "    def update(self, lr):\n",
    "        pass\n",
    "        \n",
    "        \n",
    "    def max_pooling(self, input_data):\n",
    "        windows = sliding_window_view(input_data, self.pooling_size)\n",
    "        self.window = windows\n",
    "        output = np.max(windows, axis=(2,3))\n",
    "#         indexes = np.argmax(windows, axis=(2,3))\n",
    "        return output\n",
    "    \n",
    "    \n",
    "    def forward_propagation(self, input_data):\n",
    "        self.input_data = input_data\n",
    "        print(\"pooling input data shape: \" + str(input_data.shape))\n",
    "        \n",
    "        self.output = []\n",
    "        self.output_indexes = []\n",
    "        for i in range(len(input_data)):\n",
    "            res = self.max_pooling(input_data[i])\n",
    "            self.output.append(res)\n",
    "#             self.output_indexes.append(res[1])\n",
    "        self.output = np.asarray(self.output)\n",
    "        print(\"pooling output data shape: \" + str(self.output.shape))\n",
    "        return self.output\n",
    "    \n",
    "    \n",
    "    def backward_propagation(self, output_errors):\n",
    "        mask = (self.window == self.output).astype(int)\n",
    "        masked = mask * output_errors\n",
    "        reshaped_array = masked.reshape(self.input_data.shape).sum(axis=(2, 3))\n",
    "        # mask times output_errors\n",
    "        \n",
    "        "
   ]
  }
 ],
 "metadata": {
  "kernelspec": {
   "display_name": "Python 3 (ipykernel)",
   "language": "python",
   "name": "python3"
  },
  "language_info": {
   "codemirror_mode": {
    "name": "ipython",
    "version": 3
   },
   "file_extension": ".py",
   "mimetype": "text/x-python",
   "name": "python",
   "nbconvert_exporter": "python",
   "pygments_lexer": "ipython3",
   "version": "3.11.4"
  }
 },
 "nbformat": 4,
 "nbformat_minor": 5
}
