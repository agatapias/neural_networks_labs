{
 "cells": [
  {
   "cell_type": "code",
   "execution_count": 1,
   "id": "61559229",
   "metadata": {},
   "outputs": [],
   "source": [
    "import numpy as np\n",
    "\n",
    "def xavier_init(in_size, out_size):\n",
    "    limit = 1/(np.sqrt(in_size))\n",
    "    return np.random.uniform(low=-limit, high=limit, size=(out_size, in_size))\n",
    "\n",
    "\n",
    "def he_init(in_size, out_size):\n",
    "    return np.random.normal(0, np.sqrt(2.0/in_size), size=(out_size, in_size))\n",
    "\n",
    "\n",
    "def softmax(Z):\n",
    "    expZ = np.exp(Z - np.max(Z, axis=1, keepdims=True))\n",
    "    return expZ / expZ.sum(axis=1, keepdims=True)\n",
    "\n",
    "\n",
    "# A single layer of neurons\n",
    "class SoftmaxLayer():\n",
    "    \n",
    "    def __init__(self, input_size, output_size, weight_init = \"he\"):\n",
    "        # 'xavier' or 'he'\n",
    "        if (weight_init == \"he\"):\n",
    "            self.weights = he_init(input_size, output_size) \n",
    "        else:\n",
    "            self.weights = xavier_init(input_size, output_size) \n",
    "        self.bias = np.random.randn(output_size, 1) * 0.1\n",
    "        self.activation = softmax\n",
    "        self.a_prev = []\n",
    "        self.z = []\n",
    "        self.dW = []\n",
    "        self.db = []\n",
    "        self.dA = []\n",
    "        \n",
    "    # The propagation for a single layer (all neurons) using a matrix of weigths\n",
    "    # a vector of input, and a vector of biases.\n",
    "    def forward_propagation(self, input_data):\n",
    "        # Calculate the weighted sum of input and weights\n",
    "        self.a_prev = input_data\n",
    "        self.z = np.dot(self.weights, self.a_prev) + self.bias #T # output needs to be vector, here cannot be sum\n",
    "        \n",
    "        # Apply activation function\n",
    "        return self.activation(self.z.T).T\n",
    "    \n",
    "    \n",
    "    def backward_propagation(self, dA):\n",
    "        m = self.a_prev.shape[1]\n",
    "        \n",
    "        # calculate weights & bias\n",
    "        dZ = dA # as we don't need dA, we can just pass it as dZ\n",
    "        self.dW = np.dot(dZ, self.a_prev.T) / m  # save gradient of weights\n",
    "        self.db = np.sum(dZ, axis=1, keepdims=True) / m  # save gradient of bias \n",
    "        self.dA = np.dot(self.weights.T, dZ)\n",
    "        \n",
    "        return self.dA, self.dW, self.db"
   ]
  }
 ],
 "metadata": {
  "kernelspec": {
   "display_name": "Python 3 (ipykernel)",
   "language": "python",
   "name": "python3"
  },
  "language_info": {
   "codemirror_mode": {
    "name": "ipython",
    "version": 3
   },
   "file_extension": ".py",
   "mimetype": "text/x-python",
   "name": "python",
   "nbconvert_exporter": "python",
   "pygments_lexer": "ipython3",
   "version": "3.11.4"
  }
 },
 "nbformat": 4,
 "nbformat_minor": 5
}
