{
 "cells": [
  {
   "cell_type": "code",
   "execution_count": null,
   "id": "d92168b4",
   "metadata": {},
   "outputs": [],
   "source": [
    "import numpy as np\n",
    "\n",
    "# A single layer of neurons\n",
    "class ActivationLayer():\n",
    "    \n",
    "    def __init__(self, activation, backward_activation):\n",
    "        self.activation = activation\n",
    "        self.backward_activation = backward_activation\n",
    "        self.Z = []\n",
    "    \n",
    "    \n",
    "    def update(self, lr):\n",
    "        pass\n",
    "    \n",
    "    \n",
    "    def forward_propagation(self, input_data):\n",
    "        self.Z = input_data\n",
    "        return self.activation(input_data)\n",
    "    \n",
    "    \n",
    "    def backward_propagation(self, output):\n",
    "        return self.backward_activation(output, self.Z)"
   ]
  }
 ],
 "metadata": {
  "kernelspec": {
   "display_name": "Python 3 (ipykernel)",
   "language": "python",
   "name": "python3"
  },
  "language_info": {
   "codemirror_mode": {
    "name": "ipython",
    "version": 3
   },
   "file_extension": ".py",
   "mimetype": "text/x-python",
   "name": "python",
   "nbconvert_exporter": "python",
   "pygments_lexer": "ipython3",
   "version": "3.11.4"
  }
 },
 "nbformat": 4,
 "nbformat_minor": 5
}
