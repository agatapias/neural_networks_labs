{
 "cells": [
  {
   "cell_type": "code",
   "execution_count": null,
   "id": "087e4f54",
   "metadata": {},
   "outputs": [],
   "source": [
    "import numpy as np\n",
    "\n",
    "# A single layer of neurons\n",
    "class ReshapeLayer():\n",
    "    \n",
    "    def __init__(self, input_size, output_size):\n",
    "        self.input_size = input_size\n",
    "        self.output_size = output_size\n",
    "    \n",
    "    \n",
    "    def update(self, lr):\n",
    "        pass\n",
    "    \n",
    "    \n",
    "    def forward_propagation(self, input_data):\n",
    "        print(\"reshape data shape: \" + str(input_data.shape))\n",
    "        new_len = input_data.shape[0] * input_data.shape[1] * input_data.shape[2]\n",
    "        print(\"input_data.shape[0]: \" + str(input_data.shape[0]))\n",
    "        print(\"new len: \" + str(new_len))\n",
    "        return input_data.reshape(1, new_len)\n",
    "    \n",
    "    \n",
    "    def backward_propagation(self, output):\n",
    "        print(\"backward reshape data shape: \" + str(output.shape))\n",
    "        shape = self.input_size\n",
    "        print(\"backward input reshape data shape: \" + str(shape))\n",
    "        return output.reshape(shape[0], shape[1], shape[2])"
   ]
  }
 ],
 "metadata": {
  "kernelspec": {
   "display_name": "Python 3 (ipykernel)",
   "language": "python",
   "name": "python3"
  },
  "language_info": {
   "codemirror_mode": {
    "name": "ipython",
    "version": 3
   },
   "file_extension": ".py",
   "mimetype": "text/x-python",
   "name": "python",
   "nbconvert_exporter": "python",
   "pygments_lexer": "ipython3",
   "version": "3.11.4"
  }
 },
 "nbformat": 4,
 "nbformat_minor": 5
}
